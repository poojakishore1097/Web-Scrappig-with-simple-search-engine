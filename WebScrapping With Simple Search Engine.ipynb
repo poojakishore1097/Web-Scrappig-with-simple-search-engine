{
 "cells": [
  {
   "cell_type": "code",
   "execution_count": 3,
   "id": "56c47d62",
   "metadata": {},
   "outputs": [
    {
     "name": "stdout",
     "output_type": "stream",
     "text": [
      "Requirement already satisfied: beautifulsoup4 in c:\\users\\gokul\\anaconda3\\lib\\site-packages (4.10.0)\n",
      "Requirement already satisfied: soupsieve>1.2 in c:\\users\\gokul\\anaconda3\\lib\\site-packages (from beautifulsoup4) (2.2.1)\n",
      "Note: you may need to restart the kernel to use updated packages.\n"
     ]
    }
   ],
   "source": [
    "pip install beautifulsoup4"
   ]
  },
  {
   "cell_type": "code",
   "execution_count": 5,
   "id": "3ccaef7c",
   "metadata": {},
   "outputs": [
    {
     "name": "stdout",
     "output_type": "stream",
     "text": [
      "Requirement already satisfied: requests in c:\\users\\gokul\\anaconda3\\lib\\site-packages (2.26.0)\n",
      "Requirement already satisfied: charset-normalizer~=2.0.0 in c:\\users\\gokul\\anaconda3\\lib\\site-packages (from requests) (2.0.4)\n",
      "Requirement already satisfied: certifi>=2017.4.17 in c:\\users\\gokul\\anaconda3\\lib\\site-packages (from requests) (2021.10.8)\n",
      "Requirement already satisfied: idna<4,>=2.5 in c:\\users\\gokul\\anaconda3\\lib\\site-packages (from requests) (3.2)\n",
      "Requirement already satisfied: urllib3<1.27,>=1.21.1 in c:\\users\\gokul\\anaconda3\\lib\\site-packages (from requests) (1.26.7)\n",
      "Note: you may need to restart the kernel to use updated packages.\n"
     ]
    }
   ],
   "source": [
    "pip install requests"
   ]
  },
  {
   "cell_type": "code",
   "execution_count": 9,
   "id": "3fb45de4",
   "metadata": {},
   "outputs": [
    {
     "name": "stdout",
     "output_type": "stream",
     "text": [
      "Requirement already satisfied: html5lib in c:\\users\\gokul\\anaconda3\\lib\\site-packages (1.1)\n",
      "Requirement already satisfied: six>=1.9 in c:\\users\\gokul\\anaconda3\\lib\\site-packages (from html5lib) (1.16.0)\n",
      "Requirement already satisfied: webencodings in c:\\users\\gokul\\anaconda3\\lib\\site-packages (from html5lib) (0.5.1)\n",
      "Note: you may need to restart the kernel to use updated packages.\n"
     ]
    }
   ],
   "source": [
    "pip install html5lib"
   ]
  },
  {
   "cell_type": "code",
   "execution_count": 51,
   "id": "859a1dc8",
   "metadata": {},
   "outputs": [
    {
     "name": "stdout",
     "output_type": "stream",
     "text": [
      "https://en.wikipedia.org/wiki/Natural_language_processing\n",
      "1\n",
      "file1.txt\n",
      "https://en.wikipedia.org/wiki/Machine_learning\n",
      "2\n",
      "file2.txt\n",
      "https://en.wikipedia.org/wiki/Business_analytics\n",
      "3\n",
      "file3.txt\n",
      "https://en.wikipedia.org/wiki/Computer_science\n",
      "4\n",
      "file4.txt\n",
      "https://en.wikipedia.org/wiki/ASP.NET\n",
      "5\n",
      "file5.txt\n",
      "5 file creation successfully completed\n"
     ]
    }
   ],
   "source": [
    "#1.create any five files of your choice. you can either do web scrapping or just copy paste the contents.\n",
    "import io\n",
    "import requests\n",
    "from bs4 import BeautifulSoup\n",
    "my_list = [\"https://en.wikipedia.org/wiki/Natural_language_processing\",\n",
    "           \"https://en.wikipedia.org/wiki/Machine_learning\",\n",
    "           \"https://en.wikipedia.org/wiki/Business_analytics\",\n",
    "           \"https://en.wikipedia.org/wiki/Computer_science\",\n",
    "           \"https://en.wikipedia.org/wiki/ASP.NET\"\n",
    "          ]\n",
    "#print(my_list)\n",
    "count=0\n",
    "limit=5\n",
    "for l in my_list:\n",
    "    print(l)\n",
    "    req=requests.get(l)\n",
    "    soup=BeautifulSoup(req.content,'html.parser')#print(soup.prettify())#print(soup.get_text())\n",
    "    count +=1\n",
    "    print(count)\n",
    "    filename=\"file\"+str(count)+\".txt\"\n",
    "    print(filename)\n",
    "    with open (filename, \"w\", encoding=\"utf-8\") as f:\n",
    "    #f.write(html)\n",
    "        for i in range(1):\n",
    "            f.write(soup.text)\n",
    "            f.close()   \n",
    "            if count == limit:\n",
    "                print(str(count)+\" file creation successfully completed\")\n",
    "                break    # break here \n",
    "               \n",
    "        "
   ]
  },
  {
   "cell_type": "code",
   "execution_count": 22,
   "id": "fb8197ef",
   "metadata": {},
   "outputs": [
    {
     "name": "stdout",
     "output_type": "stream",
     "text": [
      "Enter your word: language\n",
      "language\n",
      "descending order by value :  [(96, 'file1.txt'), (29, 'file4.txt'), (18, 'file2.txt'), (6, 'file5.txt'), (0, 'file3.txt')]\n"
     ]
    }
   ],
   "source": [
    "#2.Get an input search string from the user. List out files in descending order of similarity.\n",
    "import os\n",
    "import glob\n",
    "files = [f for f in os.listdir('.') if os.path.isfile(f)]\n",
    "#print(files)\n",
    "val = input(\"Enter your word: \")\n",
    "print(val)\n",
    "\n",
    "txtfiles = []\n",
    "count=0;\n",
    "for file in glob.glob(\"*.txt\"):\n",
    "    if file.startswith( 'file' ):\n",
    "        txtfiles.append(file)\n",
    "        count +=1\n",
    "      \n",
    "mylist1 = []\n",
    "filecount=0\n",
    "for txt in txtfiles:\n",
    "    with open(txt, 'r', encoding=\"utf-8\") as f:\n",
    "        data=f.read()\n",
    "        words=data.count(val)\n",
    "        #print(txt+ \" : \"+str(words))\n",
    "        filecount +=1\n",
    "        mylist1.append((words,txt))\n",
    "       \n",
    "mylist1.sort(reverse=True)\n",
    "print('descending order by value : ',mylist1)            "
   ]
  },
  {
   "cell_type": "code",
   "execution_count": null,
   "id": "5950d9b5",
   "metadata": {},
   "outputs": [],
   "source": []
  }
 ],
 "metadata": {
  "kernelspec": {
   "display_name": "Python 3 (ipykernel)",
   "language": "python",
   "name": "python3"
  },
  "language_info": {
   "codemirror_mode": {
    "name": "ipython",
    "version": 3
   },
   "file_extension": ".py",
   "mimetype": "text/x-python",
   "name": "python",
   "nbconvert_exporter": "python",
   "pygments_lexer": "ipython3",
   "version": "3.9.7"
  }
 },
 "nbformat": 4,
 "nbformat_minor": 5
}
